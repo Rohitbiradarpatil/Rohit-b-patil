{
  "nbformat": 4,
  "nbformat_minor": 0,
  "metadata": {
    "colab": {
      "provenance": [],
      "authorship_tag": "ABX9TyNTq4Y/7SYjyCf7c1BaXK41",
      "include_colab_link": true
    },
    "kernelspec": {
      "name": "python3",
      "display_name": "Python 3"
    },
    "language_info": {
      "name": "python"
    }
  },
  "cells": [
    {
      "cell_type": "markdown",
      "metadata": {
        "id": "view-in-github",
        "colab_type": "text"
      },
      "source": [
        "<a href=\"https://colab.research.google.com/github/Rohitbiradarpatil/Rohit-b-patil/blob/main/basic_py.ipynb\" target=\"_parent\"><img src=\"https://colab.research.google.com/assets/colab-badge.svg\" alt=\"Open In Colab\"/></a>"
      ]
    },
    {
      "cell_type": "code",
      "execution_count": null,
      "metadata": {
        "colab": {
          "base_uri": "https://localhost:8080/"
        },
        "id": "-6t6mejwISln",
        "outputId": "61e6bca0-5a8a-4d86-e2b4-27c6486829f9"
      },
      "outputs": [
        {
          "output_type": "stream",
          "name": "stdout",
          "text": [
            "ENTER THE NUMBER OF INPUT\n",
            "5\n",
            "ENTER DATA \n",
            "1\n",
            "ENTER DATA \n",
            "2\n",
            "ENTER DATA \n",
            "3\n",
            "ENTER DATA \n",
            "4\n",
            "ENTER DATA \n",
            "5\n",
            "[1, 2, 3, 4, 5]\n"
          ]
        }
      ],
      "source": [
        "#taking input and printing\n",
        "var = int(input(\"ENTER THE NUMBER OF INPUT\\n\"))\n",
        "var2 = []\n",
        "\n",
        "for i in range(var):\n",
        "  var1 = int(input(\"ENTER DATA \\n\"))\n",
        "  var2.append(var1)\n",
        "\n",
        "print(var2)\n",
        "  "
      ]
    },
    {
      "cell_type": "code",
      "source": [
        "#calculator(using matchcase)\n",
        "print(\"CALCULATOR\\n\")\n",
        "li = []\n",
        "for i in range(3):\n",
        " var = (input())\n",
        " li.append(var)\n",
        "a = li[1]\n",
        "match a:\n",
        " case '+':\n",
        "  print(int(li[0])+int(li[2]))\n",
        " case '-':\n",
        "   print(int(li[0])-int(li[2]))\n",
        " case '*':\n",
        "  print(int(li[0])*int(li[2]))\n",
        " case '/':\n",
        "   print(int(li[0])/int(li[2])) \n",
        " case '^':\n",
        "  print((int(li[0]))**(int(li[2])))\n",
        " case _:\n",
        "  print(\"INVALID OPERATOR\\n\")\n",
        "\n",
        "  \n",
        "  "
      ],
      "metadata": {
        "id": "ek-9lasxZNyd",
        "colab": {
          "base_uri": "https://localhost:8080/"
        },
        "outputId": "dab6c73d-b858-4fd8-8607-1507c8151b57"
      },
      "execution_count": null,
      "outputs": [
        {
          "output_type": "stream",
          "name": "stdout",
          "text": [
            "CALCULATOR\n",
            "\n",
            "2\n",
            "+\n",
            "3\n",
            "['2', '+', '3']\n",
            "+\n",
            "5\n"
          ]
        }
      ]
    },
    {
      "cell_type": "code",
      "source": [
        "# TIME MODULE\n",
        "import time\n",
        "\n",
        "current = int(time.strftime(\"%H\"))\n",
        "print(time.strftime(\"%H%M%S\"))\n",
        "if current<5:\n",
        "    print(\"GOOD NIGHT!!!\")\n",
        "elif current>5 and current<12:\n",
        "    print(\"GOOD MORNING!!!\")\n",
        "elif current>12 and current<17:\n",
        "    print(\"GOOD AFTERNOON!!!\")\n",
        "elif current>17 and current<21:\n",
        "     print(\"GOOD EVENING\")"
      ],
      "metadata": {
        "colab": {
          "base_uri": "https://localhost:8080/"
        },
        "id": "nIkRG-fz-2Rz",
        "outputId": "eb7d202e-2a9d-49b5-f1c0-a3d344fd5f88"
      },
      "execution_count": null,
      "outputs": [
        {
          "output_type": "stream",
          "name": "stdout",
          "text": [
            "190011\n",
            "GOOD EVENING\n"
          ]
        }
      ]
    }
  ]
}